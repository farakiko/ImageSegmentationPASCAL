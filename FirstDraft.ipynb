{
  "nbformat": 4,
  "nbformat_minor": 0,
  "metadata": {
    "colab": {
      "name": "FirstDraft.ipynb",
      "provenance": [],
      "collapsed_sections": [],
      "toc_visible": true
    },
    "kernelspec": {
      "name": "python3",
      "display_name": "Python 3"
    }
  },
  "cells": [
    {
      "cell_type": "markdown",
      "metadata": {
        "id": "jT8KOz3w6mQa",
        "colab_type": "text"
      },
      "source": [
        "# Brief Description of the problem:"
      ]
    },
    {
      "cell_type": "markdown",
      "metadata": {
        "id": "dhRk42Ji6p6M",
        "colab_type": "text"
      },
      "source": [
        "The main goal of this work is to recognize objects from a number of visual object classes through the generation of a visually segmented picture of the input image. It is  a supervised learning learning problem in that a training set of labelled images is provided. The twenty object classes that have been selected are:\n",
        "\n",
        "- Person: person\n",
        "- Animal: bird, cat, cow, dog, horse, sheep\n",
        "- Vehicle: aeroplane, bicycle, boat, bus, car, motorbike, train\n",
        "- Indoor: bottle, chair, dining table, potted plant, sofa, tv/monitor\n",
        "\n",
        "In total, we have 21 classes including the background null class.\n",
        "\n",
        "__Segmentation__: Generating pixel-wise segmentations giving the class of the object visible at each pixel, or \"background\" otherwise.\n",
        "\n",
        "![](https://drive.google.com/uc?id=1e9LTrcD1kS9pPHAu_EKzgVHXUz9A-uPn)\n",
        "\n",
        "Simply put, our goal is to take an RGB color image (height×width×3) and output a segmentation map (height×width×1) where each pixel contains a class label represented as an integer. The following is a nice illustration of a segmentation problem:\n",
        "\n",
        "![](https://drive.google.com/uc?id=1QpXZwr0l178728uSlOYDc68LJ9jh5vWN)\n",
        "\n",
        "- __Note__: In our problem, the labels are also images\n",
        "\n",
        "- We will work on the __PASCAL VOC 2012__ data obtained from the following reference: \\\n",
        "@misc{pascal-voc-2012,\n",
        "\tauthor = \"Everingham, M. and Van~Gool, L. and Williams, C. K. I. and Winn, J. and Zisserman, A.\",\n",
        "\ttitle = \"The {PASCAL} {V}isual {O}bject {C}lasses {C}hallenge 2012 {(VOC2012)} {R}esults\",\n",
        "\thowpublished = \"http://www.pascal-network.org/challenges/VOC/voc2012/workshop/index.html\"}"
      ]
    },
    {
      "cell_type": "markdown",
      "metadata": {
        "id": "CRB6TpG58o56",
        "colab_type": "text"
      },
      "source": [
        "# Importing necessary libraries:"
      ]
    },
    {
      "cell_type": "code",
      "metadata": {
        "id": "erJSsLZkp34D",
        "colab_type": "code",
        "colab": {}
      },
      "source": [
        "import cv2\n",
        "import numpy as np\n",
        "from PIL import Image\n",
        "import h5py\n",
        "import os\n",
        "import random\n",
        "import threading\n",
        "import queue\n",
        "import matplotlib.pyplot as plt"
      ],
      "execution_count": 0,
      "outputs": []
    },
    {
      "cell_type": "markdown",
      "metadata": {
        "id": "A8djojDgTOmn",
        "colab_type": "text"
      },
      "source": [
        "## Importing the data:"
      ]
    },
    {
      "cell_type": "code",
      "metadata": {
        "id": "gTd2HkehOtE6",
        "colab_type": "code",
        "outputId": "e233a835-4199-441d-c79f-e933ae6b6277",
        "colab": {
          "base_uri": "https://localhost:8080/",
          "height": 34
        }
      },
      "source": [
        "from google.colab import drive\n",
        "drive.mount('/content/drive')"
      ],
      "execution_count": 0,
      "outputs": [
        {
          "output_type": "stream",
          "text": [
            "Drive already mounted at /content/drive; to attempt to forcibly remount, call drive.mount(\"/content/drive\", force_remount=True).\n"
          ],
          "name": "stdout"
        }
      ]
    },
    {
      "cell_type": "code",
      "metadata": {
        "id": "KMHI5A9_PNQG",
        "colab_type": "code",
        "colab": {}
      },
      "source": [
        "root_path = \"/content/drive/My Drive/VOC2012\"    # Path containing the data"
      ],
      "execution_count": 0,
      "outputs": []
    },
    {
      "cell_type": "markdown",
      "metadata": {
        "id": "aZYJnJ2TqWyT",
        "colab_type": "text"
      },
      "source": [
        "# Pre-processing:"
      ]
    },
    {
      "cell_type": "code",
      "metadata": {
        "id": "oxnEQ8LmqPv2",
        "colab_type": "code",
        "colab": {}
      },
      "source": [
        "class VOC2012:\n",
        "    def __init__(self, root_path='/content/drive/My Drive/VOC2012', image_size=(224, 224), resize_method='resize'):\n",
        "        '''\n",
        "        This function allows for the creation of a VOC2012 object containing the dataset with relevant functions\n",
        "        Args:\n",
        "            root_path: the Pascal VOC 2012 folder path\n",
        "            image_size: resize all images and labels into this size\n",
        "        '''\n",
        "        self.root_path = root_path\n",
        "        self.resize_method = resize_method\n",
        "\n",
        "        if root_path[len(root_path) - 1] != '/' and root_path[len(root_path) - 1] != '\\\\':\n",
        "            self.root_path += '/'\n",
        "        self.train_names_path = self.root_path + 'ImageSets/Segmentation/train.txt'\n",
        "        self.val_names_path = self.root_path + 'ImageSets/Segmentation/val.txt'\n",
        "        self.image_path = self.root_path + 'JPEGImages/'\n",
        "        self.label_path = self.root_path + 'SegmentationClass/'\n",
        "        self.image_size = image_size\n",
        "        if os.path.isfile(self.train_names_path):\n",
        "            self.read_train_names()\n",
        "        if os.path.isfile(self.val_names_path):\n",
        "            self.read_val_names()\n",
        "\n",
        "    def read_train_names(self):\n",
        "        '''\n",
        "        Read the filenames of training images and labels into self.train_list\n",
        "        '''\n",
        "        self.train_names = []\n",
        "        f = open(self.train_names_path, 'r')\n",
        "        line = None\n",
        "        while 1:\n",
        "            line = f.readline().replace('\\n', '')\n",
        "            if line is None or len(line) == 0:\n",
        "                break\n",
        "            self.train_names.append(line)\n",
        "        f.close()\n",
        "\n",
        "    def read_val_names(self):\n",
        "        '''\n",
        "        Read the filenames of validation images and labels into self.val_list\n",
        "        '''\n",
        "        self.val_names = []\n",
        "        f = open(self.val_names_path, 'r')\n",
        "        line = None\n",
        "        while 1:\n",
        "            line = f.readline().replace('\\n', '')\n",
        "            if line is None or len(line) == 0:\n",
        "                break\n",
        "            self.val_names.append(line)\n",
        "        f.close()\n",
        "        \n",
        "\n",
        "    def get_train(self):\n",
        "        '''\n",
        "        Returns a \"tuple\" of lists containg all of the training images & labels respectively ... each element in each of the lists is a 224x224x3 numpy array representing an image.\n",
        "        '''\n",
        "        batch_images = []\n",
        "        batch_labels = []\n",
        "\n",
        "        for i in range(int(len(self.train_names))):\n",
        "            image = cv2.imread(self.image_path + self.train_names[i] + '.jpg')\n",
        "            if self.image_size:\n",
        "                image = cv2.resize(image, self.image_size)\n",
        "            label = np.array(Image.open(self.label_path + self.train_names[i] + '.png'))\n",
        "            label[label > 20] = 0\n",
        "            if self.image_size:\n",
        "                label = cv2.resize(label, self.image_size, interpolation=cv2.INTER_NEAREST)\n",
        "            batch_images.append(image)\n",
        "            batch_labels.append(label)\n",
        "\n",
        "        return np.array(batch_images), np.array(batch_labels)\n",
        "\n",
        "    def get_val(self):\n",
        "        '''\n",
        "        Returns a \"tuple\" of lists containg all of the validation images & labels respectively ... each element in each of the lists is a 224x224x3 numpy array representing an image.\n",
        "        '''        \n",
        "        batch_images = []\n",
        "        batch_labels = []\n",
        "\n",
        "        for i in range(int(len(self.val_names))):\n",
        "            image = cv2.imread(self.image_path + self.val_names[i] + '.jpg')\n",
        "            if self.image_size:\n",
        "                image = cv2.resize(image, self.image_size)\n",
        "            label = np.array(Image.open(self.label_path + self.val_names[i] + '.png'))\n",
        "            label[label > 20] = 0\n",
        "            if self.image_size:\n",
        "                label = cv2.resize(label, self.image_size, interpolation=cv2.INTER_NEAREST)\n",
        "            batch_images.append(image)\n",
        "            batch_labels.append(label)\n",
        "        return np.array(batch_images), np.array(batch_labels)\n",
        "\n",
        "\n",
        "    def read_all_data_and_save(self, train_data_save_path='./voc2012_train.h5', val_data_save_path='./voc2012_val.h5'):\n",
        "        '''\n",
        "        Read training and validation data and save them into two .h5 files.\n",
        "        Args:\n",
        "            train_data_save_path:The path you want to save training data into.\n",
        "            val_data_save_path:The path you want to save validation data into.\n",
        "        '''\n",
        "        self.read_train_images()\n",
        "        self.read_train_labels()\n",
        "        self.read_val_images()\n",
        "        self.read_val_labels()\n",
        "        self.save_train_data(train_data_save_path)\n",
        "        self.save_val_data(val_data_save_path)\n",
        "\n",
        "    def save_train_data(self, path='./voc2012_train.h5'):\n",
        "        '''\n",
        "        save training images and labels into path in the form of .h5\n",
        "        Args:\n",
        "            path:The path you want to save train data into.It must be xxx.h5\n",
        "        '''\n",
        "        save_h5(path, self.train_images, self.train_labels)\n",
        "\n",
        "    def save_val_data(self, path='./voc2012_val.h5'):\n",
        "        '''\n",
        "        save validation images and labels into path in the form of .h5\n",
        "        Args:\n",
        "            path:The path you want to save train data into.It must be xxx.h5\n",
        "        '''\n",
        "        save_h5(path, self.val_images, self.val_labels)\n",
        "\n",
        "    def load_all_data(self, train_data_load_path='./voc2012_train.h5', val_data_load_path='./voc2012_val.h5'):\n",
        "        '''\n",
        "        Load training and validation data from .h5 files\n",
        "        Args:\n",
        "            train_data_load_path:The training data .h5 file path.\n",
        "            val_data_load_path:The validation data .h5 file path.\n",
        "        '''\n",
        "        self.load_train_data(train_data_load_path)\n",
        "        self.load_val_data(val_data_load_path)\n",
        "\n",
        "    def read_train_images(self):\n",
        "        '''\n",
        "        Read training images into self.train_images\n",
        "        If you haven't called self.read_train_list(), it will call first\n",
        "        After reading images, it will resize them\n",
        "        '''\n",
        "        self.train_images = []\n",
        "        if hasattr(self, 'train_list') == False:\n",
        "            self.read_train_list()\n",
        "        for filename in self.train_list:\n",
        "            image = cv2.imread(self.image_path + filename + '.jpg')\n",
        "            if self.resize_method == 'resize':\n",
        "                image = cv2.resize(image, self.image_size)\n",
        "            elif self.resize_method == 'pad':\n",
        "                height = np.shape(image)[0]\n",
        "                width = np.shape(image)[1]\n",
        "                image = cv2.copyMakeBorder(image, 0, 500 - height, 0, 500 - width, cv2.BORDER_CONSTANT, value=0)\n",
        "            self.train_images.append(image)\n",
        "            if len(self.train_images) % 100 == 0:\n",
        "                print('Reading train images', len(self.train_images), '/', len(self.train_list))\n",
        "\n",
        "    def read_train_labels(self):\n",
        "        '''\n",
        "        Read training labels into self.train_labels\n",
        "        If you haven't called self.read_train_list(), it will call first\n",
        "        After reading labels, it will resize them\n",
        "        Note:image[image > 20] = 0 will remove all white borders in original labels\n",
        "        '''\n",
        "        self.train_labels = []\n",
        "        if hasattr(self, 'train_list') == False:\n",
        "            self.read_train_list()\n",
        "        for filename in self.train_list:\n",
        "            image = Image.open(self.label_path + filename + '.png')\n",
        "            image = np.array(image)\n",
        "            image[image > 20] = 0\n",
        "            if self.resize_method == 'resize':\n",
        "                image = cv2.resize(image, self.image_size, interpolation=cv2.INTER_NEAREST)\n",
        "            elif self.resize_method == 'pad':\n",
        "                height = np.shape(image)[0]\n",
        "                width = np.shape(image)[1]\n",
        "                image = cv2.copyMakeBorder(image, 0, 500 - height, 0, 500 - width, cv2.BORDER_CONSTANT, value=0)\n",
        "            image[image > 20] = 0\n",
        "            self.train_labels.append(image)\n",
        "            if len(self.train_labels) % 100 == 0:\n",
        "                print('Reading train labels', len(self.train_labels), '/', len(self.train_list))\n",
        "\n",
        "    def read_val_images(self):\n",
        "        '''\n",
        "           Read validation images into self.val_images\n",
        "           If you haven't called self.read_val_list(), it will call first\n",
        "           After reading images, it will resize them\n",
        "        '''\n",
        "        self.val_images = []\n",
        "        if hasattr(self, 'val_list') == False:\n",
        "            self.read_val_list()\n",
        "        for filename in self.val_list:\n",
        "            image = cv2.imread(self.image_path + filename + '.jpg')\n",
        "            if self.resize_method == 'resize':\n",
        "                image = cv2.resize(image, self.image_size)\n",
        "            elif self.resize_method == 'pad':\n",
        "                height = np.shape(image)[0]\n",
        "                width = np.shape(image)[1]\n",
        "                image = cv2.copyMakeBorder(image, 0, 500 - height, 0, 500 - width, cv2.BORDER_CONSTANT, value=0)\n",
        "            self.val_images.append(image)\n",
        "            if len(self.val_images) % 100 == 0:\n",
        "                print('Reading val images', len(self.val_images), '/', len(self.val_list))\n",
        "\n",
        "    def read_val_labels(self):\n",
        "        '''\n",
        "           Read validation labels into self.val_labels\n",
        "           If you haven't called self.read_val_list(), it will call first\n",
        "           After reading labels, it will resize them\n",
        "           Note:image[image > 100] = 0 will remove all white borders in original labels\n",
        "        '''\n",
        "        self.val_labels = []\n",
        "        if hasattr(self, 'val_list') == False:\n",
        "            self.read_val_list()\n",
        "        for filename in self.val_list:\n",
        "            image = Image.open(self.label_path + filename + '.png')\n",
        "            image = np.array(image)\n",
        "            image[image > 20] = 0\n",
        "            if self.resize_method == 'resize':\n",
        "                image = cv2.resize(image, self.image_size, interpolation=cv2.INTER_NEAREST)\n",
        "            elif self.resize_method == 'pad':\n",
        "                height = np.shape(image)[0]\n",
        "                width = np.shape(image)[1]\n",
        "                image = cv2.copyMakeBorder(image, 0, 500 - height, 0, 500 - width, cv2.BORDER_CONSTANT, value=0)\n",
        "            image[image > 20] = 0\n",
        "            self.val_labels.append(image)\n",
        "            if len(self.val_labels) % 100 == 0:\n",
        "                print('Reading val labels', len(self.val_labels), '/', len(self.val_list))\n",
        "\n",
        "    def read_train_list(self):\n",
        "        '''\n",
        "        Read the filenames of training images and labels into self.train_list\n",
        "        '''\n",
        "        self.train_list = []\n",
        "        f = open(self.train_names_path, 'r')\n",
        "        line = None\n",
        "        while 1:\n",
        "            line = f.readline().replace('\\n', '')\n",
        "            if line is None or len(line) == 0:\n",
        "                break\n",
        "            self.train_list.append(line)\n",
        "        f.close()\n",
        "    \n",
        "    def read_val_list(self):\n",
        "        '''\n",
        "        Read the filenames of validation images and labels into self.val_list\n",
        "        '''\n",
        "        self.val_list = []\n",
        "        f = open(self.val_names_path, 'r')\n",
        "        line = None\n",
        "        while 1:\n",
        "            line = f.readline().replace('\\n', '')\n",
        "            if line is None or len(line) == 0:\n",
        "                break\n",
        "            self.val_list.append(line)\n",
        "        f.close()\n",
        "\n",
        "    def load_all_data(self, train_data_load_path='./voc2012_train.h5', val_data_load_path='./voc2012_val.h5'):\n",
        "        '''\n",
        "        Load training and validation data from .h5 files\n",
        "        Args:\n",
        "            train_data_load_path:The training data .h5 file path.\n",
        "            val_data_load_path:The validation data .h5 file path.\n",
        "        '''\n",
        "        self.load_train_data(train_data_load_path)\n",
        "        self.load_val_data(val_data_load_path)\n",
        "\n",
        "    def load_train_data(self, path='./voc2012_train.h5'):\n",
        "        '''\n",
        "        Load training data from .h5 files\n",
        "        Args:\n",
        "            train_data_load_path:The training data .h5 file path.\n",
        "        '''\n",
        "        self.train_images, self.train_labels = load_h5(path)\n",
        "\n",
        "    def load_val_data(self, path='./voc2012_val.h5'):\n",
        "        '''\n",
        "        Load validation data from .h5 files\n",
        "        Args:\n",
        "            val_data_load_path:The validation data .h5 file path.\n",
        "        '''\n",
        "        self.val_images, self.val_labels = load_h5(path)\n"
      ],
      "execution_count": 0,
      "outputs": []
    },
    {
      "cell_type": "markdown",
      "metadata": {
        "id": "w169Qik_TW3n",
        "colab_type": "text"
      },
      "source": [
        "# Create an instance of the PASCAL dataset:"
      ]
    },
    {
      "cell_type": "markdown",
      "metadata": {
        "id": "d4WDv8pTUCMF",
        "colab_type": "text"
      },
      "source": [
        "Generate the training samples from the data and check their dimensions. \n",
        "\n",
        "NOTE: this process takes about 10 minutes so it is more instructive to save and load using functions we defined above in the pre-processing~ this will be done further in a bit."
      ]
    },
    {
      "cell_type": "code",
      "metadata": {
        "id": "NqXrkYubQvX6",
        "colab_type": "code",
        "colab": {}
      },
      "source": [
        "data = VOC2012()"
      ],
      "execution_count": 0,
      "outputs": []
    },
    {
      "cell_type": "markdown",
      "metadata": {
        "id": "PupwCTd3cIwW",
        "colab_type": "text"
      },
      "source": [
        "# DON'T START from here:"
      ]
    },
    {
      "cell_type": "code",
      "metadata": {
        "id": "FXLmvYsKEPvE",
        "colab_type": "code",
        "colab": {}
      },
      "source": [
        "train_images, train_labels = data.get_train()         # Returns a tuple of numpy arrays"
      ],
      "execution_count": 0,
      "outputs": []
    },
    {
      "cell_type": "code",
      "metadata": {
        "id": "eJrDaPfYT8i0",
        "colab_type": "code",
        "outputId": "f881f327-5a6c-4b1d-dde4-5246fbdb0324",
        "colab": {
          "base_uri": "https://localhost:8080/",
          "height": 69
        }
      },
      "source": [
        "print(\"The # of training samples is:\", len(train_images))\n",
        "print(\"The dimensions of each training image is:\", train_images[0].shape)\n",
        "print(\"The dimensions of each training label is:\", train_labels[0].shape)"
      ],
      "execution_count": 0,
      "outputs": [
        {
          "output_type": "stream",
          "text": [
            "The # of training samples is: 1464\n",
            "The dimensions of each training image is: (224, 224, 3)\n",
            "The dimensions of each training label is: (224, 224)\n"
          ],
          "name": "stdout"
        }
      ]
    },
    {
      "cell_type": "markdown",
      "metadata": {
        "id": "fjGpPop39_Tj",
        "colab_type": "text"
      },
      "source": [
        "As expected, the image size is 224x224 with 3 chanels for rgb because of our initialization of the VOC2012 class."
      ]
    },
    {
      "cell_type": "code",
      "metadata": {
        "id": "S930prELOgXd",
        "colab_type": "code",
        "colab": {}
      },
      "source": [
        "val_images, val_labels = data.get_val()              # Returns a tuple of numpy arrays"
      ],
      "execution_count": 0,
      "outputs": []
    },
    {
      "cell_type": "code",
      "metadata": {
        "id": "dX9iSQAjLBu-",
        "colab_type": "code",
        "outputId": "fc9958ca-5d46-46bc-9292-a7bcedeaf85f",
        "colab": {
          "base_uri": "https://localhost:8080/",
          "height": 69
        }
      },
      "source": [
        "print(\"The # of validation samples is:\", len(val_images))\n",
        "print(\"The dimensions of each validation image is:\", val_images[0].shape)\n",
        "print(\"The dimensions of each validation label is:\", val_labels[0].shape)"
      ],
      "execution_count": 0,
      "outputs": [
        {
          "output_type": "stream",
          "text": [
            "The # of validation samples is: 1449\n",
            "The dimensions of each validation image is: (224, 224, 3)\n",
            "The dimensions of each validation label is: (224, 224)\n"
          ],
          "name": "stdout"
        }
      ]
    },
    {
      "cell_type": "markdown",
      "metadata": {
        "id": "OlXp7XqiA8rl",
        "colab_type": "text"
      },
      "source": [
        "Note that: the segmented image has one channel of size 224x224 with each pixel lying between 0 & 21 corresponding to each class."
      ]
    },
    {
      "cell_type": "markdown",
      "metadata": {
        "id": "GGp-K8mkMKjK",
        "colab_type": "text"
      },
      "source": [
        "Now, as we've mentioned before, it is more instructive to save the data and load each time we run this notebook instead of using the get_methods we defined above (i.e. the get methods were helpful/needed only for the first time)"
      ]
    },
    {
      "cell_type": "code",
      "metadata": {
        "id": "iPBQhbAvIig2",
        "colab_type": "code",
        "outputId": "11b78e5b-3040-4fae-d43d-f8c4ffb12ba7",
        "colab": {
          "base_uri": "https://localhost:8080/",
          "height": 1000
        }
      },
      "source": [
        "data.read_all_data_and_save()"
      ],
      "execution_count": 0,
      "outputs": [
        {
          "output_type": "stream",
          "text": [
            "Reading train images 100 / 1464\n",
            "Reading train images 200 / 1464\n",
            "Reading train images 300 / 1464\n",
            "Reading train images 400 / 1464\n",
            "Reading train images 500 / 1464\n",
            "Reading train images 600 / 1464\n",
            "Reading train images 700 / 1464\n",
            "Reading train images 800 / 1464\n",
            "Reading train images 900 / 1464\n",
            "Reading train images 1000 / 1464\n",
            "Reading train images 1100 / 1464\n",
            "Reading train images 1200 / 1464\n",
            "Reading train images 1300 / 1464\n",
            "Reading train images 1400 / 1464\n",
            "Reading train labels 100 / 1464\n",
            "Reading train labels 200 / 1464\n",
            "Reading train labels 300 / 1464\n",
            "Reading train labels 400 / 1464\n",
            "Reading train labels 500 / 1464\n",
            "Reading train labels 600 / 1464\n",
            "Reading train labels 700 / 1464\n",
            "Reading train labels 800 / 1464\n",
            "Reading train labels 900 / 1464\n",
            "Reading train labels 1000 / 1464\n",
            "Reading train labels 1100 / 1464\n",
            "Reading train labels 1200 / 1464\n",
            "Reading train labels 1300 / 1464\n",
            "Reading train labels 1400 / 1464\n",
            "Reading val images 100 / 1449\n",
            "Reading val images 200 / 1449\n",
            "Reading val images 300 / 1449\n",
            "Reading val images 400 / 1449\n",
            "Reading val images 500 / 1449\n",
            "Reading val images 600 / 1449\n",
            "Reading val images 700 / 1449\n",
            "Reading val images 800 / 1449\n",
            "Reading val images 900 / 1449\n",
            "Reading val images 1000 / 1449\n",
            "Reading val images 1100 / 1449\n",
            "Reading val images 1200 / 1449\n",
            "Reading val images 1300 / 1449\n",
            "Reading val images 1400 / 1449\n",
            "Reading val labels 100 / 1449\n",
            "Reading val labels 200 / 1449\n",
            "Reading val labels 300 / 1449\n",
            "Reading val labels 400 / 1449\n",
            "Reading val labels 500 / 1449\n",
            "Reading val labels 600 / 1449\n",
            "Reading val labels 700 / 1449\n",
            "Reading val labels 800 / 1449\n",
            "Reading val labels 900 / 1449\n",
            "Reading val labels 1000 / 1449\n",
            "Reading val labels 1100 / 1449\n",
            "Reading val labels 1200 / 1449\n",
            "Reading val labels 1300 / 1449\n",
            "Reading val labels 1400 / 1449\n",
            "saving ./voc2012_train.h5\n",
            "saving ./voc2012_val.h5\n"
          ],
          "name": "stdout"
        }
      ]
    },
    {
      "cell_type": "markdown",
      "metadata": {
        "id": "uslH8Xz5OjqK",
        "colab_type": "text"
      },
      "source": [
        "The next line of code is the only line needed to load the dataset quickly onto the variable data."
      ]
    },
    {
      "cell_type": "markdown",
      "metadata": {
        "id": "bxZ2dPNVb9In",
        "colab_type": "text"
      },
      "source": [
        "# START from here to load:"
      ]
    },
    {
      "cell_type": "code",
      "metadata": {
        "id": "CekV9VJnOgvc",
        "colab_type": "code",
        "colab": {}
      },
      "source": [
        "def load_h5(path):\n",
        "\tprint('loading',path)\n",
        "\tfile = h5py.File(name=path,mode='r')\n",
        "\treturn file['images'],file['labels']\n",
        "\n",
        "def load_train_data(path='/content/drive/My Drive/NNproject/voc2012_train.h5'):\n",
        "        '''\n",
        "        Load training data from .h5 files\n",
        "        Args:\n",
        "            train_data_load_path:The training data .h5 file path.\n",
        "        '''\n",
        "        return load_h5(path)\n",
        "\n",
        "def load_val_data(path='/content/drive/My Drive/NNproject/voc2012_val.h5'):\n",
        "        '''\n",
        "        Load validation data from .h5 files\n",
        "        Args:\n",
        "            val_data_load_path:The validation data .h5 file path.\n",
        "        '''\n",
        "        return load_h5(path)"
      ],
      "execution_count": 0,
      "outputs": []
    },
    {
      "cell_type": "code",
      "metadata": {
        "id": "m-eLi-mGbmUf",
        "colab_type": "code",
        "outputId": "69d43506-5c09-4725-f57f-5b77b6564aa7",
        "colab": {
          "base_uri": "https://localhost:8080/",
          "height": 52
        }
      },
      "source": [
        "train_images, train_labels = load_train_data()\n",
        "val_images, val_labels = load_val_data()"
      ],
      "execution_count": 0,
      "outputs": [
        {
          "output_type": "stream",
          "text": [
            "loading /content/drive/My Drive/NNproject/voc2012_train.h5\n",
            "loading /content/drive/My Drive/NNproject/voc2012_val.h5\n"
          ],
          "name": "stdout"
        }
      ]
    },
    {
      "cell_type": "code",
      "metadata": {
        "id": "CJWUOiEmIdLo",
        "colab_type": "code",
        "colab": {}
      },
      "source": [
        "train_images=np.asarray(train_images)\n",
        "train_labels=np.asarray(train_labels)\n",
        "val_images=np.asarray(val_images)\n",
        "val_labels=np.asarray(val_labels)"
      ],
      "execution_count": 0,
      "outputs": []
    },
    {
      "cell_type": "markdown",
      "metadata": {
        "id": "fgg15OsJRwUu",
        "colab_type": "text"
      },
      "source": [
        "Check that the data is loaded:"
      ]
    },
    {
      "cell_type": "code",
      "metadata": {
        "id": "xWFGZ-ltRj1O",
        "colab_type": "code",
        "outputId": "0da240c6-788b-4ce9-9ad0-bc742bcc2be7",
        "colab": {
          "base_uri": "https://localhost:8080/",
          "height": 69
        }
      },
      "source": [
        "print(\"The # of training samples is:\", len(train_images))\n",
        "print(\"The dimensions of each training image is:\", train_images[0].shape)\n",
        "print(\"The dimensions of each training label is:\", train_labels[0].shape)"
      ],
      "execution_count": 0,
      "outputs": [
        {
          "output_type": "stream",
          "text": [
            "The # of training samples is: 1464\n",
            "The dimensions of each training image is: (224, 224, 3)\n",
            "The dimensions of each training label is: (224, 224)\n"
          ],
          "name": "stdout"
        }
      ]
    },
    {
      "cell_type": "code",
      "metadata": {
        "id": "isApNTMlRj4Z",
        "colab_type": "code",
        "outputId": "4d15a1a1-8181-46ae-cabc-fb882f983290",
        "colab": {
          "base_uri": "https://localhost:8080/",
          "height": 69
        }
      },
      "source": [
        "print(\"The # of validation samples is:\", len(val_images))\n",
        "print(\"The dimensions of each validation image is:\", val_images[0].shape)\n",
        "print(\"The dimensions of each validation label is:\", val_labels[0].shape)"
      ],
      "execution_count": 0,
      "outputs": [
        {
          "output_type": "stream",
          "text": [
            "The # of validation samples is: 1449\n",
            "The dimensions of each validation image is: (224, 224, 3)\n",
            "The dimensions of each validation label is: (224, 224)\n"
          ],
          "name": "stdout"
        }
      ]
    },
    {
      "cell_type": "code",
      "metadata": {
        "id": "eqUwM8kmhcEN",
        "colab_type": "code",
        "outputId": "bcd85e43-b6df-4478-e281-e49796db5769",
        "colab": {
          "base_uri": "https://localhost:8080/",
          "height": 538
        }
      },
      "source": [
        "# Visualize samples of the training batch; images and labels:\n",
        "\n",
        "plt.figure()\n",
        "plt.imshow(train_images[4])\n",
        "plt.show() \n",
        "plt.imshow(train_labels[4])"
      ],
      "execution_count": 0,
      "outputs": [
        {
          "output_type": "display_data",
          "data": {
            "image/png": "[encoded data removed]",
            "text/plain": [
              "<Figure size 432x288 with 1 Axes>"
            ]
          },
          "metadata": {
            "tags": [],
            "needs_background": "light"
          }
        },
        {
          "output_type": "execute_result",
          "data": {
            "text/plain": [
              "<matplotlib.image.AxesImage at 0x7fbbc7b2aac8>"
            ]
          },
          "metadata": {
            "tags": []
          },
          "execution_count": 8
        },
        {
          "output_type": "display_data",
          "data": {
            "image/png": "[encoded data removed]",
            "text/plain": [
              "<Figure size 432x288 with 1 Axes>"
            ]
          },
          "metadata": {
            "tags": [],
            "needs_background": "light"
          }
        }
      ]
    },
    {
      "cell_type": "markdown",
      "metadata": {
        "id": "M0Eo4soJI_Jp",
        "colab_type": "text"
      },
      "source": [
        "Tranfsorm the lables to One-Hot encoded vectors:"
      ]
    },
    {
      "cell_type": "code",
      "metadata": {
        "id": "ilxZT4cAI-TI",
        "colab_type": "code",
        "outputId": "dd6e4989-148d-4347-eca9-0399ea85ce54",
        "colab": {
          "base_uri": "https://localhost:8080/",
          "height": 34
        }
      },
      "source": [
        "from keras.utils import to_categorical\n",
        "y_trn= to_categorical(train_labels, num_classes=21)\n",
        "y_val= to_categorical(val_labels, num_classes=21)"
      ],
      "execution_count": 0,
      "outputs": [
        {
          "output_type": "stream",
          "text": [
            "Using TensorFlow backend.\n"
          ],
          "name": "stderr"
        }
      ]
    },
    {
      "cell_type": "markdown",
      "metadata": {
        "id": "c6chUM2Kezwo",
        "colab_type": "text"
      },
      "source": [
        "# Our VGG16 model:"
      ]
    },
    {
      "cell_type": "code",
      "metadata": {
        "id": "A1nU3zRo6kRb",
        "colab_type": "code",
        "colab": {}
      },
      "source": [
        "from keras.applications import VGG16\n",
        "\n",
        "conv_base = VGG16(weights='imagenet',\n",
        "                  include_top=False,\n",
        "                  input_shape=(224, 224, 3))\n"
      ],
      "execution_count": 0,
      "outputs": []
    },
    {
      "cell_type": "code",
      "metadata": {
        "id": "Jnjf_m7U_NNm",
        "colab_type": "code",
        "outputId": "5ee59316-1784-41aa-e14d-b8fd2ca8eb57",
        "colab": {
          "base_uri": "https://localhost:8080/",
          "height": 816
        }
      },
      "source": [
        "conv_base.summary()"
      ],
      "execution_count": 0,
      "outputs": [
        {
          "output_type": "stream",
          "text": [
            "Model: \"vgg16\"\n",
            "_________________________________________________________________\n",
            "Layer (type)                 Output Shape              Param #   \n",
            "=================================================================\n",
            "input_2 (InputLayer)         (None, 224, 224, 3)       0         \n",
            "_________________________________________________________________\n",
            "block1_conv1 (Conv2D)        (None, 224, 224, 64)      1792      \n",
            "_________________________________________________________________\n",
            "block1_conv2 (Conv2D)        (None, 224, 224, 64)      36928     \n",
            "_________________________________________________________________\n",
            "block1_pool (MaxPooling2D)   (None, 112, 112, 64)      0         \n",
            "_________________________________________________________________\n",
            "block2_conv1 (Conv2D)        (None, 112, 112, 128)     73856     \n",
            "_________________________________________________________________\n",
            "block2_conv2 (Conv2D)        (None, 112, 112, 128)     147584    \n",
            "_________________________________________________________________\n",
            "block2_pool (MaxPooling2D)   (None, 56, 56, 128)       0         \n",
            "_________________________________________________________________\n",
            "block3_conv1 (Conv2D)        (None, 56, 56, 256)       295168    \n",
            "_________________________________________________________________\n",
            "block3_conv2 (Conv2D)        (None, 56, 56, 256)       590080    \n",
            "_________________________________________________________________\n",
            "block3_conv3 (Conv2D)        (None, 56, 56, 256)       590080    \n",
            "_________________________________________________________________\n",
            "block3_pool (MaxPooling2D)   (None, 28, 28, 256)       0         \n",
            "_________________________________________________________________\n",
            "block4_conv1 (Conv2D)        (None, 28, 28, 512)       1180160   \n",
            "_________________________________________________________________\n",
            "block4_conv2 (Conv2D)        (None, 28, 28, 512)       2359808   \n",
            "_________________________________________________________________\n",
            "block4_conv3 (Conv2D)        (None, 28, 28, 512)       2359808   \n",
            "_________________________________________________________________\n",
            "block4_pool (MaxPooling2D)   (None, 14, 14, 512)       0         \n",
            "_________________________________________________________________\n",
            "block5_conv1 (Conv2D)        (None, 14, 14, 512)       2359808   \n",
            "_________________________________________________________________\n",
            "block5_conv2 (Conv2D)        (None, 14, 14, 512)       2359808   \n",
            "_________________________________________________________________\n",
            "block5_conv3 (Conv2D)        (None, 14, 14, 512)       2359808   \n",
            "_________________________________________________________________\n",
            "block5_pool (MaxPooling2D)   (None, 7, 7, 512)         0         \n",
            "=================================================================\n",
            "Total params: 14,714,688\n",
            "Trainable params: 14,714,688\n",
            "Non-trainable params: 0\n",
            "_________________________________________________________________\n"
          ],
          "name": "stdout"
        }
      ]
    },
    {
      "cell_type": "code",
      "metadata": {
        "id": "ypLfR4ig_cW1",
        "colab_type": "code",
        "colab": {}
      },
      "source": [
        "from keras import models\n",
        "from keras import layers\n",
        "from keras.layers import Dense\n",
        "from keras.models import Sequential\n",
        "from keras.optimizers import SGD\n",
        "from keras.utils import to_categorical\n",
        "from matplotlib import pyplot\n",
        "from keras.models import Model, Sequential\n",
        "from keras.layers import Dense, Flatten, Dropout, Input, UpSampling2D, Dense, Conv2D, MaxPooling2D, Reshape, BatchNormalization, Activation, Conv2DTranspose, Add, ZeroPadding2D, Cropping2D\n",
        "from keras.applications.vgg16 import preprocess_input, decode_predictions\n",
        "from keras.preprocessing.image import ImageDataGenerator\n",
        "from keras.optimizers import Adam, RMSprop, SGD\n",
        "\n",
        "num_classes = 21\n",
        "model = Sequential()\n",
        "conv_base.trainable = False\n",
        "model.add(conv_base)\n",
        "#model.add(layers.Flatten())\n",
        "#model.add(layers.Dense(256, activation='relu'))\n",
        "#model.add(layers.Dense(224*224, activation='sigmoid'))     # We expect an output that is a 224*224 picture which has the same dimension as the labelled data\n",
        "\n",
        "model.add(Conv2D(4096, (7, 7), activation='relu',padding='same')) # Conv layer 6\n",
        "model.add((Conv2D(4096, (1, 1), activation='relu',padding='same'))) # Conv layer 6\n",
        "model.add(Conv2D(num_classes,  (1, 1), kernel_initializer='he_normal',padding='valid'))\n",
        "# model.add(Conv2DTranspose(num_classes, kernel_size=(32, 32),  strides=(32, 32), use_bias=False))\n",
        "model.add(UpSampling2D(size=(32, 32), data_format=None, interpolation='nearest')) # Upsampling\n"
      ],
      "execution_count": 0,
      "outputs": []
    },
    {
      "cell_type": "code",
      "metadata": {
        "id": "zkF_O7eRUR4u",
        "colab_type": "code",
        "outputId": "5c6843f6-1de0-44a0-eea7-35f6074409e2",
        "colab": {
          "base_uri": "https://localhost:8080/",
          "height": 330
        }
      },
      "source": [
        "model.summary()"
      ],
      "execution_count": 0,
      "outputs": [
        {
          "output_type": "stream",
          "text": [
            "Model: \"sequential_4\"\n",
            "_________________________________________________________________\n",
            "Layer (type)                 Output Shape              Param #   \n",
            "=================================================================\n",
            "vgg16 (Model)                (None, 7, 7, 512)         14714688  \n",
            "_________________________________________________________________\n",
            "conv2d_10 (Conv2D)           (None, 7, 7, 4096)        102764544 \n",
            "_________________________________________________________________\n",
            "conv2d_11 (Conv2D)           (None, 7, 7, 4096)        16781312  \n",
            "_________________________________________________________________\n",
            "conv2d_12 (Conv2D)           (None, 7, 7, 21)          86037     \n",
            "_________________________________________________________________\n",
            "up_sampling2d_4 (UpSampling2 (None, 224, 224, 21)      0         \n",
            "=================================================================\n",
            "Total params: 134,346,581\n",
            "Trainable params: 119,631,893\n",
            "Non-trainable params: 14,714,688\n",
            "_________________________________________________________________\n"
          ],
          "name": "stdout"
        }
      ]
    },
    {
      "cell_type": "markdown",
      "metadata": {
        "id": "qAh4nGAsG7L0",
        "colab_type": "text"
      },
      "source": [
        "We need to add a final operation that shrinks the output over the third dimension so that its size is just: 224x224\n",
        "\n",
        "Note: The pixel values of the output would represent the maximum value of the pixels along this 3rd dimension. Furthermore, the values will lie between 0 & 21 corressponding to the different classes\n",
        "\n",
        "We will do so manually by creating a keras layer class that does this job."
      ]
    },
    {
      "cell_type": "code",
      "metadata": {
        "id": "qn1j9CXfJ7Iv",
        "colab_type": "code",
        "colab": {}
      },
      "source": [
        "from keras import backend as K\n",
        "from keras.layers import Layer\n",
        "\n",
        "class argmaxLayer(Layer):\n",
        "    def compute_output_shape(self, input_shape):\n",
        "        return (input_shape[0], input_shape[1], input_shape[2])\n",
        "\n",
        "    def call(self, inputs):\n",
        "        return K.argmax(inputs, axis=3)"
      ],
      "execution_count": 0,
      "outputs": []
    },
    {
      "cell_type": "code",
      "metadata": {
        "id": "G1nhsWL2PRR6",
        "colab_type": "code",
        "outputId": "35f81d56-c067-4d2f-986b-b3b89e049565",
        "colab": {
          "base_uri": "https://localhost:8080/",
          "height": 139
        }
      },
      "source": [
        "# We can check that this layer works properly on a random object that matches the output of our network.. shape=(None,x,y,z):\n",
        "x = ([(1,1,1), (1,2,3)],[(1,1,7), (0,1,0)])\n",
        "x = np.expand_dims(x, axis=0)\n",
        "print(\"The shape of the input is:\", np.array(x).shape)\n",
        "print(\"The following is the result of the argmax numpy function:\\n\", np.argmax(x, axis=3))\n",
        "\n",
        "output = argmaxLayer()(K.constant(x))\n",
        "print(\"The following is the result of the argmaxLayer operation:\\n\", K.eval(output))"
      ],
      "execution_count": 0,
      "outputs": [
        {
          "output_type": "stream",
          "text": [
            "The shape of the input is: (1, 2, 2, 3)\n",
            "The following is the result of the argmax numpy function:\n",
            " [[[0 2]\n",
            "  [2 1]]]\n",
            "The following is the result of the argmaxLayer operation:\n",
            " [[[0 2]\n",
            "  [2 1]]]\n"
          ],
          "name": "stdout"
        }
      ]
    },
    {
      "cell_type": "markdown",
      "metadata": {
        "id": "PAUW6JNpQJZd",
        "colab_type": "text"
      },
      "source": [
        "So, now we safely add this argmaxLayer to our model. The following is the update summary of the model."
      ]
    },
    {
      "cell_type": "code",
      "metadata": {
        "id": "Zz5fs0OFPOdw",
        "colab_type": "code",
        "outputId": "9c9bbaf3-72b1-4d3e-b318-108f73694f8c",
        "colab": {
          "base_uri": "https://localhost:8080/",
          "height": 364
        }
      },
      "source": [
        "model.add(argmaxLayer())\n",
        "model.summary()"
      ],
      "execution_count": 0,
      "outputs": [
        {
          "output_type": "stream",
          "text": [
            "Model: \"sequential_3\"\n",
            "_________________________________________________________________\n",
            "Layer (type)                 Output Shape              Param #   \n",
            "=================================================================\n",
            "vgg16 (Model)                (None, 7, 7, 512)         14714688  \n",
            "_________________________________________________________________\n",
            "conv2d_7 (Conv2D)            (None, 7, 7, 4096)        102764544 \n",
            "_________________________________________________________________\n",
            "conv2d_8 (Conv2D)            (None, 7, 7, 4096)        16781312  \n",
            "_________________________________________________________________\n",
            "conv2d_9 (Conv2D)            (None, 7, 7, 21)          86037     \n",
            "_________________________________________________________________\n",
            "up_sampling2d_3 (UpSampling2 (None, 224, 224, 21)      0         \n",
            "_________________________________________________________________\n",
            "argmax_layer_4 (argmaxLayer) (None, 224, 224)          0         \n",
            "=================================================================\n",
            "Total params: 134,346,581\n",
            "Trainable params: 119,631,893\n",
            "Non-trainable params: 14,714,688\n",
            "_________________________________________________________________\n"
          ],
          "name": "stdout"
        }
      ]
    },
    {
      "cell_type": "markdown",
      "metadata": {
        "id": "uMnqkwwAQSNQ",
        "colab_type": "text"
      },
      "source": [
        "It is clear now that the output dimensions matches the dimensions of the labelled data.\n",
        "\n",
        "It is also clear that this final layer we added will not have any trainable parameters. This makes sense because it is just an argmax operation that reduces the 3rd rank tensor to 2nd rank."
      ]
    },
    {
      "cell_type": "markdown",
      "metadata": {
        "id": "z-3QoSy0UuM_",
        "colab_type": "text"
      },
      "source": [
        "# Training:"
      ]
    },
    {
      "cell_type": "code",
      "metadata": {
        "id": "oL4vT_XE7vdg",
        "colab_type": "code",
        "outputId": "79a7d008-5f33-43ff-b654-b77dee15e24f",
        "colab": {
          "base_uri": "https://localhost:8080/",
          "height": 348
        }
      },
      "source": [
        "opt = SGD(lr=0.001, momentum=0.9)\n",
        "loss = 'categorical_crossentropy'\n",
        "metrics = ['categorical_accuracy']\n",
        "epochs = 50\n",
        "steps_per_epoch = 100\n",
        "model.compile(optimizer=opt, loss=loss, metrics=metrics)\n",
        "history = model.fit(train_images, train_labels, validation_data=(val_images, val_labels), epochs=epochs, verbose=True, batch_size=100)"
      ],
      "execution_count": 0,
      "outputs": [
        {
          "output_type": "error",
          "ename": "ValueError",
          "evalue": "ignored",
          "traceback": [
            "\u001b[0;31m---------------------------------------------------------------------------\u001b[0m",
            "\u001b[0;31mValueError\u001b[0m                                Traceback (most recent call last)",
            "\u001b[0;32m<ipython-input-38-6b550a7b8fb1>\u001b[0m in \u001b[0;36m<module>\u001b[0;34m()\u001b[0m\n\u001b[1;32m      5\u001b[0m \u001b[0msteps_per_epoch\u001b[0m \u001b[0;34m=\u001b[0m \u001b[0;36m100\u001b[0m\u001b[0;34m\u001b[0m\u001b[0;34m\u001b[0m\u001b[0m\n\u001b[1;32m      6\u001b[0m \u001b[0mmodel\u001b[0m\u001b[0;34m.\u001b[0m\u001b[0mcompile\u001b[0m\u001b[0;34m(\u001b[0m\u001b[0moptimizer\u001b[0m\u001b[0;34m=\u001b[0m\u001b[0mopt\u001b[0m\u001b[0;34m,\u001b[0m \u001b[0mloss\u001b[0m\u001b[0;34m=\u001b[0m\u001b[0mloss\u001b[0m\u001b[0;34m,\u001b[0m \u001b[0mmetrics\u001b[0m\u001b[0;34m=\u001b[0m\u001b[0mmetrics\u001b[0m\u001b[0;34m)\u001b[0m\u001b[0;34m\u001b[0m\u001b[0;34m\u001b[0m\u001b[0m\n\u001b[0;32m----> 7\u001b[0;31m \u001b[0mhistory\u001b[0m \u001b[0;34m=\u001b[0m \u001b[0mmodel\u001b[0m\u001b[0;34m.\u001b[0m\u001b[0mfit\u001b[0m\u001b[0;34m(\u001b[0m\u001b[0mtrain_images\u001b[0m\u001b[0;34m,\u001b[0m \u001b[0mtrain_labels\u001b[0m\u001b[0;34m,\u001b[0m \u001b[0mvalidation_data\u001b[0m\u001b[0;34m=\u001b[0m\u001b[0;34m(\u001b[0m\u001b[0mval_images\u001b[0m\u001b[0;34m,\u001b[0m \u001b[0mval_labels\u001b[0m\u001b[0;34m)\u001b[0m\u001b[0;34m,\u001b[0m \u001b[0mepochs\u001b[0m\u001b[0;34m=\u001b[0m\u001b[0mepochs\u001b[0m\u001b[0;34m,\u001b[0m \u001b[0mverbose\u001b[0m\u001b[0;34m=\u001b[0m\u001b[0;32mTrue\u001b[0m\u001b[0;34m,\u001b[0m \u001b[0mbatch_size\u001b[0m\u001b[0;34m=\u001b[0m\u001b[0;36m100\u001b[0m\u001b[0;34m)\u001b[0m\u001b[0;34m\u001b[0m\u001b[0;34m\u001b[0m\u001b[0m\n\u001b[0m",
            "\u001b[0;32m/usr/local/lib/python3.6/dist-packages/keras/engine/training.py\u001b[0m in \u001b[0;36mfit\u001b[0;34m(self, x, y, batch_size, epochs, verbose, callbacks, validation_split, validation_data, shuffle, class_weight, sample_weight, initial_epoch, steps_per_epoch, validation_steps, validation_freq, max_queue_size, workers, use_multiprocessing, **kwargs)\u001b[0m\n\u001b[1;32m   1152\u001b[0m             \u001b[0msample_weight\u001b[0m\u001b[0;34m=\u001b[0m\u001b[0msample_weight\u001b[0m\u001b[0;34m,\u001b[0m\u001b[0;34m\u001b[0m\u001b[0;34m\u001b[0m\u001b[0m\n\u001b[1;32m   1153\u001b[0m             \u001b[0mclass_weight\u001b[0m\u001b[0;34m=\u001b[0m\u001b[0mclass_weight\u001b[0m\u001b[0;34m,\u001b[0m\u001b[0;34m\u001b[0m\u001b[0;34m\u001b[0m\u001b[0m\n\u001b[0;32m-> 1154\u001b[0;31m             batch_size=batch_size)\n\u001b[0m\u001b[1;32m   1155\u001b[0m \u001b[0;34m\u001b[0m\u001b[0m\n\u001b[1;32m   1156\u001b[0m         \u001b[0;31m# Prepare validation data.\u001b[0m\u001b[0;34m\u001b[0m\u001b[0;34m\u001b[0m\u001b[0;34m\u001b[0m\u001b[0m\n",
            "\u001b[0;32m/usr/local/lib/python3.6/dist-packages/keras/engine/training.py\u001b[0m in \u001b[0;36m_standardize_user_data\u001b[0;34m(self, x, y, sample_weight, class_weight, check_array_lengths, batch_size)\u001b[0m\n\u001b[1;32m    619\u001b[0m                 \u001b[0mfeed_output_shapes\u001b[0m\u001b[0;34m,\u001b[0m\u001b[0;34m\u001b[0m\u001b[0;34m\u001b[0m\u001b[0m\n\u001b[1;32m    620\u001b[0m                 \u001b[0mcheck_batch_axis\u001b[0m\u001b[0;34m=\u001b[0m\u001b[0;32mFalse\u001b[0m\u001b[0;34m,\u001b[0m  \u001b[0;31m# Don't enforce the batch size.\u001b[0m\u001b[0;34m\u001b[0m\u001b[0;34m\u001b[0m\u001b[0m\n\u001b[0;32m--> 621\u001b[0;31m                 exception_prefix='target')\n\u001b[0m\u001b[1;32m    622\u001b[0m \u001b[0;34m\u001b[0m\u001b[0m\n\u001b[1;32m    623\u001b[0m             \u001b[0;31m# Generate sample-wise weight values given the `sample_weight` and\u001b[0m\u001b[0;34m\u001b[0m\u001b[0;34m\u001b[0m\u001b[0;34m\u001b[0m\u001b[0m\n",
            "\u001b[0;32m/usr/local/lib/python3.6/dist-packages/keras/engine/training_utils.py\u001b[0m in \u001b[0;36mstandardize_input_data\u001b[0;34m(data, names, shapes, check_batch_axis, exception_prefix)\u001b[0m\n\u001b[1;32m    133\u001b[0m                         \u001b[0;34m': expected '\u001b[0m \u001b[0;34m+\u001b[0m \u001b[0mnames\u001b[0m\u001b[0;34m[\u001b[0m\u001b[0mi\u001b[0m\u001b[0;34m]\u001b[0m \u001b[0;34m+\u001b[0m \u001b[0;34m' to have '\u001b[0m \u001b[0;34m+\u001b[0m\u001b[0;34m\u001b[0m\u001b[0;34m\u001b[0m\u001b[0m\n\u001b[1;32m    134\u001b[0m                         \u001b[0mstr\u001b[0m\u001b[0;34m(\u001b[0m\u001b[0mlen\u001b[0m\u001b[0;34m(\u001b[0m\u001b[0mshape\u001b[0m\u001b[0;34m)\u001b[0m\u001b[0;34m)\u001b[0m \u001b[0;34m+\u001b[0m \u001b[0;34m' dimensions, but got array '\u001b[0m\u001b[0;34m\u001b[0m\u001b[0;34m\u001b[0m\u001b[0m\n\u001b[0;32m--> 135\u001b[0;31m                         'with shape ' + str(data_shape))\n\u001b[0m\u001b[1;32m    136\u001b[0m                 \u001b[0;32mif\u001b[0m \u001b[0;32mnot\u001b[0m \u001b[0mcheck_batch_axis\u001b[0m\u001b[0;34m:\u001b[0m\u001b[0;34m\u001b[0m\u001b[0;34m\u001b[0m\u001b[0m\n\u001b[1;32m    137\u001b[0m                     \u001b[0mdata_shape\u001b[0m \u001b[0;34m=\u001b[0m \u001b[0mdata_shape\u001b[0m\u001b[0;34m[\u001b[0m\u001b[0;36m1\u001b[0m\u001b[0;34m:\u001b[0m\u001b[0;34m]\u001b[0m\u001b[0;34m\u001b[0m\u001b[0;34m\u001b[0m\u001b[0m\n",
            "\u001b[0;31mValueError\u001b[0m: Error when checking target: expected up_sampling2d_4 to have 4 dimensions, but got array with shape (1464, 224, 224)"
          ]
        }
      ]
    }
  ]
}